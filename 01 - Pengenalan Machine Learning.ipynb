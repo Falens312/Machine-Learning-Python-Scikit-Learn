{
 "cells": [
  {
   "cell_type": "markdown",
   "id": "dcba1596",
   "metadata": {},
   "source": [
    "# 01 - Pengenalan *Machine Learning*"
   ]
  },
  {
   "cell_type": "markdown",
   "id": "6abedbea",
   "metadata": {},
   "source": [
    "## Apa itu *Machine Learning*?\n",
    "\n",
    "- *Machine learning is a branch of artificial intelligence (AI) and computer science which focuses on the use of data and algorithms to imitate the way that humans learn, gradually improving its accuracy* **(IBM)**.\n",
    "- Machine Learning adalah bidang ilmu yang memampukan suatu program komputer untuk belajar dari sekumpulan data."
   ]
  },
  {
   "cell_type": "markdown",
   "id": "fe277348",
   "metadata": {},
   "source": [
    "## *Learning Problem*\n",
    "- *Learning problem* dalam konteks *Machine Learning* melibatkan suatu dataset (terdiri dari sejumlah sample data) untuk melakukan prediksi terhadap properties yang tidak diketahui pada dataset lain yang sejenis.\n",
    "- Terdapat 2 jenis *learning problem*, yaitu:\n",
    "    1. ***Supervised Learning Problem***, program **memprediksi suatu nilai output untuk suatu input berdasarkan proses learning dengan memanfaatkan sekumpulan data yang terbagi dalam dua label**, yaitu input dan output. Program tersebut melakukan learning dari sekumpulan contoh kasus (*examples*) yang **menyertakan** \"jawaban benar\".\n",
    "    2. ***Unsupervised Learning Problem***, program tidak melakukan *learning* dari *labeled data*, tetapi **mencoba menemukan pola (patterns) pada data**. Program melakukan *learning* dari sekumpulan contoh kasus (*examples*) **tanpa menyertakan** \"jawaban benar\"."
   ]
  },
  {
   "cell_type": "markdown",
   "id": "d823fba2",
   "metadata": {},
   "source": [
    "## *Supervised Machine Learning Tasks*\n",
    "- Terdapat 2 jenis *Supervised Machine Learning Tasks*, yaitu:\n",
    "    1. ***Classification tasks***, menekankan pada proses *learning (training)* untuk melakukan prediksi **nilai *discrete(i.e., category, class, label)*** dari sejumlah *features*.\n",
    "    2. ***Regression tasks***, menekankan pada proses *learning (training)* untuk melakukan prediksi **nilai *continuous(floating point)*** dari sejumlah *features*.\n",
    "    \n",
    "## *Unsupervised Machine Learning Tasks*\n",
    "- Terdapat banyak jenis *Unsupervised Machine Learning Tasks*, seperti:\n",
    "    1. ***Clustering Tasks***, menekankan pada proses explorasi data untuk **menemukan kelompok (*group*) pada data berdasarkan kemiripan (kedekatan) karakteristik**.\n",
    "    2. ***Dimensionality Reduction Tasks***, menekankan pada proses explorasi data untuk **menemukan sejumlah features yang paling berdampak terhadap response variable**."
   ]
  },
  {
   "cell_type": "code",
   "execution_count": null,
   "id": "0c96bb3a",
   "metadata": {},
   "outputs": [],
   "source": []
  }
 ],
 "metadata": {
  "kernelspec": {
   "display_name": "Python 3 (ipykernel)",
   "language": "python",
   "name": "python3"
  },
  "language_info": {
   "codemirror_mode": {
    "name": "ipython",
    "version": 3
   },
   "file_extension": ".py",
   "mimetype": "text/x-python",
   "name": "python",
   "nbconvert_exporter": "python",
   "pygments_lexer": "ipython3",
   "version": "3.9.13"
  }
 },
 "nbformat": 4,
 "nbformat_minor": 5
}
