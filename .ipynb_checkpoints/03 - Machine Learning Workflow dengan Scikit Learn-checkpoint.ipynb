{
 "cells": [
  {
   "cell_type": "markdown",
   "metadata": {},
   "source": [
    "# Persiapan Dataset"
   ]
  },
  {
   "cell_type": "markdown",
   "metadata": {},
   "source": [
    "## Import Sample Iris Dataset\n",
    "* Kita akan menggunakan iris dataset dengan mengimport load_iris dari sklearn.datasets\n",
    "* Memanggil iris dataset dengan load_iris() yang akan ditampung oleh variabel iris\n",
    "* variabel X akan menapung iris.data sedangkan y akan menapung iris.target"
   ]
  },
  {
   "cell_type": "code",
   "execution_count": 3,
   "metadata": {},
   "outputs": [],
   "source": [
    "from sklearn.datasets import load_iris\n",
    "\n",
    "iris = load_iris()\n",
    "\n",
    "X = iris.data\n",
    "y = iris.target"
   ]
  },
  {
   "cell_type": "markdown",
   "metadata": {},
   "source": [
    "## Splitting Dataset : Training & Testing Set"
   ]
  },
  {
   "cell_type": "code",
   "execution_count": 4,
   "metadata": {},
   "outputs": [],
   "source": [
    "from sklearn.model_selection import train_test_split\n",
    "\n",
    "X_train, X_test, y_train, y_test = train_test_split(X,\n",
    "                                                    y,\n",
    "                                                    test_size=0.4,\n",
    "                                                    random_state=1)"
   ]
  },
  {
   "cell_type": "markdown",
   "metadata": {},
   "source": [
    "## Training Model\n",
    "\n",
    "* Pada Scikit Learn, model machine learning di bentuk dari class yang dikenal dengan istilah __estimator__.\n",
    "* Setiap estimator akan mengimplementasikan dua method utama, yaitu *fit()* dan *predict()*.\n",
    "* Method *fit()* digunakan untuk melakukan training model.\n",
    "* Method *predict()* digunakan untuk melakukan estimasi/prediksi dengan memanfaatkan trained model."
   ]
  },
  {
   "cell_type": "markdown",
   "metadata": {},
   "source": [
    "Kita akan menggunakan KNeighboresClassifier sebagai machine learning model, model ini akan kita trainee dengan memanfaatkan training set yang sudah di persiapkan sebelumnya\n",
    "\n",
    "* Pertama mengimport modelnya yang dimana model machine learning yang digunakan adalah KNeighboresClassifier\n",
    "* Lalu akan membentukn objek dari klass KNeighboresClassifier \n",
    "\t- proses pembentukan objek membutuhkan satu parameter yaitu n_neighbors karena objek model yang akan dibentuk berasal dari KNeighboresClassifier yang mana akan menspesifikasikan jumlah tetangganya dalam kasus ini akan di set jumlah neighbors nya 3\n",
    "\t- Objek model yang terbentuk akan di tampung ke dalam variable model \n",
    "\t- Lalu objek model akan ditraining dengan menggukanakan metode fit proses training ini yang akan memanfaatkan traing set maka kita akan memanggil X_train dan y_train\n",
    "\t- X_train = berisi sekumpulan nilai feautures untuk training set\n",
    "\t- y_train = berisi sekumpulan nilai target untuk training set\n",
    "\t\t"
   ]
  },
  {
   "cell_type": "code",
   "execution_count": 7,
   "metadata": {},
   "outputs": [
    {
     "data": {
      "text/plain": [
       "KNeighborsClassifier(n_neighbors=3)"
      ]
     },
     "execution_count": 7,
     "metadata": {},
     "output_type": "execute_result"
    }
   ],
   "source": [
    "from sklearn.neighbors import KNeighborsClassifier\n",
    "\n",
    "model = KNeighborsClassifier(n_neighbors=3)\n",
    "model.fit(X_train, y_train)"
   ]
  },
  {
   "cell_type": "markdown",
   "metadata": {},
   "source": [
    "# Evakuasi Model"
   ]
  },
  {
   "cell_type": "markdown",
   "metadata": {},
   "source": [
    "Untuk melakukan proses evaluasi terdapat beberapa matriks yang dapat digunakan salah satunya adalah accuracy \n",
    "* langkah pertama yang dapat kita lakukan adalah dengan mengimport martics accuracy_score dari sklearn.metricks \n",
    "* lalu kita akan melakukan prediksi terhadap nilai feautures yang ada didalam testing dataset dengan memanggil model.predict(X_test) lalu hasil nya akan di tampung di y_pred \n",
    "* pada proses evaluasi ini akan membandingkan nilai target yang terdapat dalam variable y_tes dibandingkan dengan nilai prediksi yang ditampung ke dalam variable y_pred \n",
    "* Menampilkan accuracy_score. untuk kali ini accuracy score yang dihasilkan adalah 98% atau 0.9833333333333333"
   ]
  },
  {
   "cell_type": "code",
   "execution_count": 9,
   "metadata": {},
   "outputs": [
    {
     "name": "stdout",
     "output_type": "stream",
     "text": [
      "Accuracy: 0.9833333333333333\n"
     ]
    }
   ],
   "source": [
    "from sklearn.metrics import accuracy_score\n",
    "\n",
    "y_pred = model.predict(X_test)\n",
    "acc = accuracy_score(y_test, y_pred)\n",
    "print(f'Accuracy: {acc}')"
   ]
  },
  {
   "cell_type": "markdown",
   "metadata": {},
   "source": [
    "## Pemanfaatan Trained Model"
   ]
  },
  {
   "cell_type": "markdown",
   "metadata": {},
   "source": [
    "Setelah mendapatkan hasil evaluasi yang cukup baik maka model yang sudah ditraining ini dapat di gunakan untuk melakukan prediksi terhdap data baru. Dengan menggunakan model yang sudah ditraining sebelumnya kita dapat melakukan prediksi nilai target dari sekumpulan nilai feautures yang ada.\n",
    "\n",
    "* Membuat dataset baru yang terdiri dari sekumpulan nilai feautures.\n",
    "* Melakukan prediksi terhadap nilai features data_baru dengan memanggil model.predict() yang hasilnya akan ditampung oleh variabel preds.\n",
    "\n",
    "* Menampilkan hasil prediksi dari data_baru yang akan menghasilkan array([1, 2]). Artinya bahwa untuk baris pertama dengan nilai features [5, 5, 3, 2] diprediksi memiliki nilai target 1 dan baris kedua dengan nilai features [2, 4, 3, 5] diprediksi memiliki nilai target 2."
   ]
  },
  {
   "cell_type": "code",
   "execution_count": 10,
   "metadata": {},
   "outputs": [
    {
     "data": {
      "text/plain": [
       "array([1, 2])"
      ]
     },
     "execution_count": 10,
     "metadata": {},
     "output_type": "execute_result"
    }
   ],
   "source": [
    "data_baru = [[5, 5, 3, 2],\n",
    "             [2, 4, 3, 5]]\n",
    "\n",
    "preds = model.predict(data_baru)\n",
    "preds"
   ]
  },
  {
   "cell_type": "markdown",
   "metadata": {},
   "source": [
    "* Untuk mengetahui target name dari hasil prediksi maka kita memanggil [iris.target_names[p] for p in preds] yang menghasilkan ['versicolor', 'virginica']"
   ]
  },
  {
   "cell_type": "code",
   "execution_count": 11,
   "metadata": {},
   "outputs": [
    {
     "name": "stdout",
     "output_type": "stream",
     "text": [
      "Hasil Prediksi: ['versicolor', 'virginica']\n"
     ]
    }
   ],
   "source": [
    "pred_species = [iris.target_names[p] for p in preds]\n",
    "print(f'Hasil Prediksi: {pred_species}')"
   ]
  },
  {
   "cell_type": "markdown",
   "metadata": {},
   "source": [
    "## Dump & Load Trained Model"
   ]
  },
  {
   "cell_type": "markdown",
   "metadata": {},
   "source": [
    "- Trained model yang sudah siap akan kita export menjadi suatu file model dengan menggunakan modul joblib \n",
    "- Proses dumping model dengan cara memanggil joblib.dump() yang di sertai 2 parameter\n",
    "    * Yang pertama yaitu trained model yang akan di dumping \n",
    "    * yang kedua yaitu nama file yang akan dihasilkan dari proses dumping terdebut"
   ]
  },
  {
   "cell_type": "code",
   "execution_count": 12,
   "metadata": {},
   "outputs": [
    {
     "data": {
      "text/plain": [
       "['iris_classifier_knn.joblib']"
      ]
     },
     "execution_count": 12,
     "metadata": {},
     "output_type": "execute_result"
    }
   ],
   "source": [
    "import joblib\n",
    "\n",
    "joblib.dump(model, 'iris_classifier_knn.joblib')"
   ]
  },
  {
   "cell_type": "markdown",
   "metadata": {},
   "source": [
    "- kita akan meload file joblib yang dihasilkan sebelumnya menjadi machine learning dengan menggunakan joblib.load() yang di ikuti oleh nama file yang akan di load"
   ]
  },
  {
   "cell_type": "code",
   "execution_count": 14,
   "metadata": {},
   "outputs": [],
   "source": [
    "production_model = joblib.load('iris_classifier_knn.joblib')"
   ]
  }
 ],
 "metadata": {
  "kernelspec": {
   "display_name": "Python 3 (ipykernel)",
   "language": "python",
   "name": "python3"
  },
  "language_info": {
   "codemirror_mode": {
    "name": "ipython",
    "version": 3
   },
   "file_extension": ".py",
   "mimetype": "text/x-python",
   "name": "python",
   "nbconvert_exporter": "python",
   "pygments_lexer": "ipython3",
   "version": "3.9.13"
  }
 },
 "nbformat": 4,
 "nbformat_minor": 4
}
